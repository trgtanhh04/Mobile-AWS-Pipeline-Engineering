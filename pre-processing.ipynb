{
 "cells": [
  {
   "cell_type": "code",
   "execution_count": 23,
   "id": "d01aef76",
   "metadata": {},
   "outputs": [],
   "source": [
    "import sys\n",
    "import os\n",
    "import logging\n",
    "from kafka import KafkaConsumer\n",
    "from pyspark.sql import SparkSession\n",
    "from pyspark.sql import functions as F\n",
    "from pyspark.sql.functions import col, explode, from_json, udf, when,  abs as spark_abs, array\n",
    "from pyspark.sql.types import StructType, StructField, StringType\n",
    "from pyspark.sql.types import ArrayType, MapType, IntegerType, FloatType, BooleanType, DoubleType\n",
    "import re\n",
    "import json"
   ]
  },
  {
   "cell_type": "code",
   "execution_count": 2,
   "id": "99b3d393",
   "metadata": {},
   "outputs": [
    {
     "name": "stderr",
     "output_type": "stream",
     "text": [
      "your 131072x1 screen size is bogus. expect trouble\n",
      "25/04/28 23:51:51 WARN Utils: Your hostname, LAPTOP-I95CP2I9 resolves to a loopback address: 127.0.1.1; using 10.255.255.254 instead (on interface lo)\n",
      "25/04/28 23:51:51 WARN Utils: Set SPARK_LOCAL_IP if you need to bind to another address\n"
     ]
    },
    {
     "name": "stdout",
     "output_type": "stream",
     "text": [
      ":: loading settings :: url = jar:file:/opt/spark/jars/ivy-2.5.1.jar!/org/apache/ivy/core/settings/ivysettings.xml\n"
     ]
    },
    {
     "name": "stderr",
     "output_type": "stream",
     "text": [
      "Ivy Default Cache set to: /home/tienanh/.ivy2/cache\n",
      "The jars for the packages stored in: /home/tienanh/.ivy2/jars\n",
      "org.apache.spark#spark-sql-kafka-0-10_2.12 added as a dependency\n",
      ":: resolving dependencies :: org.apache.spark#spark-submit-parent-973edf83-6421-4c25-b40f-13a630459abb;1.0\n",
      "\tconfs: [default]\n",
      "\tfound org.apache.spark#spark-sql-kafka-0-10_2.12;3.4.0 in central\n",
      "\tfound org.apache.spark#spark-token-provider-kafka-0-10_2.12;3.4.0 in central\n",
      "\tfound org.apache.kafka#kafka-clients;3.3.2 in central\n",
      "\tfound org.lz4#lz4-java;1.8.0 in central\n",
      "\tfound org.xerial.snappy#snappy-java;1.1.9.1 in central\n",
      "\tfound org.slf4j#slf4j-api;2.0.6 in central\n",
      "\tfound org.apache.hadoop#hadoop-client-runtime;3.3.4 in central\n",
      "\tfound org.apache.hadoop#hadoop-client-api;3.3.4 in central\n",
      "\tfound commons-logging#commons-logging;1.1.3 in central\n",
      "\tfound com.google.code.findbugs#jsr305;3.0.0 in central\n",
      "\tfound org.apache.commons#commons-pool2;2.11.1 in central\n",
      "downloading https://repo1.maven.org/maven2/org/apache/spark/spark-sql-kafka-0-10_2.12/3.4.0/spark-sql-kafka-0-10_2.12-3.4.0.jar ...\n",
      "\t[SUCCESSFUL ] org.apache.spark#spark-sql-kafka-0-10_2.12;3.4.0!spark-sql-kafka-0-10_2.12.jar (662ms)\n",
      "downloading https://repo1.maven.org/maven2/org/apache/spark/spark-token-provider-kafka-0-10_2.12/3.4.0/spark-token-provider-kafka-0-10_2.12-3.4.0.jar ...\n",
      "\t[SUCCESSFUL ] org.apache.spark#spark-token-provider-kafka-0-10_2.12;3.4.0!spark-token-provider-kafka-0-10_2.12.jar (397ms)\n",
      "downloading https://repo1.maven.org/maven2/org/apache/kafka/kafka-clients/3.3.2/kafka-clients-3.3.2.jar ...\n",
      "\t[SUCCESSFUL ] org.apache.kafka#kafka-clients;3.3.2!kafka-clients.jar (1059ms)\n",
      "downloading https://repo1.maven.org/maven2/org/apache/hadoop/hadoop-client-runtime/3.3.4/hadoop-client-runtime-3.3.4.jar ...\n",
      "\t[SUCCESSFUL ] org.apache.hadoop#hadoop-client-runtime;3.3.4!hadoop-client-runtime.jar (3425ms)\n",
      "downloading https://repo1.maven.org/maven2/org/xerial/snappy/snappy-java/1.1.9.1/snappy-java-1.1.9.1.jar ...\n",
      "\t[SUCCESSFUL ] org.xerial.snappy#snappy-java;1.1.9.1!snappy-java.jar(bundle) (547ms)\n",
      "downloading https://repo1.maven.org/maven2/org/slf4j/slf4j-api/2.0.6/slf4j-api-2.0.6.jar ...\n",
      "\t[SUCCESSFUL ] org.slf4j#slf4j-api;2.0.6!slf4j-api.jar (389ms)\n",
      "downloading https://repo1.maven.org/maven2/org/apache/hadoop/hadoop-client-api/3.3.4/hadoop-client-api-3.3.4.jar ...\n",
      "\t[SUCCESSFUL ] org.apache.hadoop#hadoop-client-api;3.3.4!hadoop-client-api.jar (2502ms)\n",
      ":: resolution report :: resolve 10472ms :: artifacts dl 9025ms\n",
      "\t:: modules in use:\n",
      "\tcom.google.code.findbugs#jsr305;3.0.0 from central in [default]\n",
      "\tcommons-logging#commons-logging;1.1.3 from central in [default]\n",
      "\torg.apache.commons#commons-pool2;2.11.1 from central in [default]\n",
      "\torg.apache.hadoop#hadoop-client-api;3.3.4 from central in [default]\n",
      "\torg.apache.hadoop#hadoop-client-runtime;3.3.4 from central in [default]\n",
      "\torg.apache.kafka#kafka-clients;3.3.2 from central in [default]\n",
      "\torg.apache.spark#spark-sql-kafka-0-10_2.12;3.4.0 from central in [default]\n",
      "\torg.apache.spark#spark-token-provider-kafka-0-10_2.12;3.4.0 from central in [default]\n",
      "\torg.lz4#lz4-java;1.8.0 from central in [default]\n",
      "\torg.slf4j#slf4j-api;2.0.6 from central in [default]\n",
      "\torg.xerial.snappy#snappy-java;1.1.9.1 from central in [default]\n",
      "\t---------------------------------------------------------------------\n",
      "\t|                  |            modules            ||   artifacts   |\n",
      "\t|       conf       | number| search|dwnlded|evicted|| number|dwnlded|\n",
      "\t---------------------------------------------------------------------\n",
      "\t|      default     |   11  |   7   |   7   |   0   ||   11  |   7   |\n",
      "\t---------------------------------------------------------------------\n",
      ":: retrieving :: org.apache.spark#spark-submit-parent-973edf83-6421-4c25-b40f-13a630459abb\n",
      "\tconfs: [default]\n",
      "\t7 artifacts copied, 4 already retrieved (55446kB/149ms)\n",
      "25/04/28 23:52:12 WARN NativeCodeLoader: Unable to load native-hadoop library for your platform... using builtin-java classes where applicable\n",
      "Setting default log level to \"WARN\".\n",
      "To adjust logging level use sc.setLogLevel(newLevel). For SparkR, use setLogLevel(newLevel).\n"
     ]
    }
   ],
   "source": [
    "spark = SparkSession.builder \\\n",
    "    .appName(\"KafkaConsumer\") \\\n",
    "    .config(\"spark.jars.packages\", \"org.apache.spark:spark-sql-kafka-0-10_2.12:3.4.0\") \\\n",
    "    .getOrCreate()\n",
    "\n"
   ]
  },
  {
   "cell_type": "code",
   "execution_count": 29,
   "id": "a718daa8",
   "metadata": {},
   "outputs": [
    {
     "name": "stdout",
     "output_type": "stream",
     "text": [
      "+--------------------+---------------+------------------------------------------+--------------------+--------------------+--------------------+---------------------------+--------------------+\n",
      "|        Tên sản phẩm|Loại điện thoại|Màu sắc - Phiên bản bộ nhớ - Giá tương ứng|  Thời gian bảo hành|   Thông số kỹ thuật|            Đánh giá|Số lượt đánh giá và hỏi đáp|           Đường dẫn|\n",
      "+--------------------+---------------+------------------------------------------+--------------------+--------------------+--------------------+---------------------------+--------------------+\n",
      "|Điện thoại Xiaomi...|          Redmi|                      [['Xanh Đậm', '4-...|  BH Thường 12 tháng|\"{\"\"Màn hình:\"\": ...| 500 nits (typ)\\n...|        HD+ (720 x 1650 ...| \"\"Hệ điều hành:\"...|\n",
      "|Điện thoại Xiaomi...|          Redmi|                      [['Tím', '4-128GB...|  BH Thường 12 tháng|\"{\"\"Màn hình:\"\": ...|               120Hz|             450 nits (typ)| 600 nits (HBM)\\n...|\n",
      "|Điện thoại Xiaomi...|          Redmi|                      [['Xanh', '4-128G...|  BH Thường 12 tháng|\"{\"\"Màn hình:\"\": ...|               120Hz|        1200 nits (peak)...| Full HD+ (1080 x...|\n",
      "|Điện thoại Xiaomi...|           POCO|                      [['Vàng (Gold)', ...|BH Thường 18 thán...|\"{\"\"Màn hình:\"\": ...|               120Hz|             450 nits (typ)| 600 nits (HBM)\\n...|\n",
      "|Điện thoại Xiaomi...|          Redmi|                      [['Xanh', '6-128G...|  BH Thường 12 Tháng|\"{\"\"Màn hình:\"\": ...|            1 tỷ màu|                      120Hz| 1000 nits (tối đ...|\n",
      "+--------------------+---------------+------------------------------------------+--------------------+--------------------+--------------------+---------------------------+--------------------+\n",
      "only showing top 5 rows\n",
      "\n"
     ]
    }
   ],
   "source": [
    "parsed_df = spark.read.csv('data/ouput/raw_data.csv', header=True)\n",
    "parsed_df.show(5)"
   ]
  },
  {
   "cell_type": "code",
   "execution_count": 30,
   "id": "89689cfd",
   "metadata": {},
   "outputs": [],
   "source": [
    "renamed_columns = {\n",
    "        \"Tên sản phẩm\": \"ten\",\n",
    "        \"Loại điện thoại\": \"loai_dien_thoai\",\n",
    "        \"Màu sắc - Phiên bản bộ nhớ - Giá tương ứng\": \"mau_sac_phien_ban_bo_nho_gia_moi_gia_cu\",\n",
    "        \"Thời gian bảo hành\": \"thoi_gian_bao_hanh\",\n",
    "        \"Thông số kỹ thuật\": \"thong_so_ky_thuat\",\n",
    "        \"Đánh giá\": \"danh_gia\",\n",
    "        \"Số lượt đánh giá và hỏi đáp\": \"so_luong_binh_luan\",\n",
    "        \"Đường dẫn\": \"duong_dan\"\n",
    "    }\n",
    "\n",
    "for old_name, new_name in renamed_columns.items():\n",
    "    parsed_df = parsed_df.withColumnRenamed(old_name, new_name)\n",
    "    \n",
    "    # Loại bỏ các hàng có giá trị \"ten\" không mong muốn\n",
    "parsed_df = parsed_df.filter(col(\"ten\") != \"Điện thoại Xiaomi SU7 (Ô tô điện chạy 800km/1 lần sạc)\")\n",
    "\n",
    "    # Loại bỏ các hàng có giá trị \"loai_dien_thoai\" không mong muốn\n",
    "parsed_df = parsed_df.filter((col(\"loai_dien_thoai\") != \"Apple Watch\") & \n",
    "                                (col(\"loai_dien_thoai\") != \"Máy Chơi Game PC\"))\n",
    "    "
   ]
  },
  {
   "cell_type": "code",
   "execution_count": 31,
   "id": "cedfe01b",
   "metadata": {},
   "outputs": [
    {
     "name": "stdout",
     "output_type": "stream",
     "text": [
      "+--------------------+---------------+---------------------------------------+--------------------+--------------------+--------------------+--------------------+--------------------+\n",
      "|                 ten|loai_dien_thoai|mau_sac_phien_ban_bo_nho_gia_moi_gia_cu|  thoi_gian_bao_hanh|   thong_so_ky_thuat|            danh_gia|  so_luong_binh_luan|           duong_dan|\n",
      "+--------------------+---------------+---------------------------------------+--------------------+--------------------+--------------------+--------------------+--------------------+\n",
      "|Điện thoại Xiaomi...|          Redmi|                   [['Xanh Đậm', '4-...|  BH Thường 12 tháng|\"{\"\"Màn hình:\"\": ...| 500 nits (typ)\\n...| HD+ (720 x 1650 ...| \"\"Hệ điều hành:\"...|\n",
      "|Điện thoại Xiaomi...|          Redmi|                   [['Tím', '4-128GB...|  BH Thường 12 tháng|\"{\"\"Màn hình:\"\": ...|               120Hz|      450 nits (typ)| 600 nits (HBM)\\n...|\n",
      "|Điện thoại Xiaomi...|          Redmi|                   [['Xanh', '4-128G...|  BH Thường 12 tháng|\"{\"\"Màn hình:\"\": ...|               120Hz| 1200 nits (peak)...| Full HD+ (1080 x...|\n",
      "|Điện thoại Xiaomi...|           POCO|                   [['Vàng (Gold)', ...|BH Thường 18 thán...|\"{\"\"Màn hình:\"\": ...|               120Hz|      450 nits (typ)| 600 nits (HBM)\\n...|\n",
      "|Điện thoại Xiaomi...|          Redmi|                   [['Xanh', '6-128G...|  BH Thường 12 Tháng|\"{\"\"Màn hình:\"\": ...|            1 tỷ màu|               120Hz| 1000 nits (tối đ...|\n",
      "+--------------------+---------------+---------------------------------------+--------------------+--------------------+--------------------+--------------------+--------------------+\n",
      "only showing top 5 rows\n",
      "\n"
     ]
    }
   ],
   "source": [
    "parsed_df.show(5)"
   ]
  },
  {
   "cell_type": "code",
   "execution_count": 32,
   "id": "7e5b71fc",
   "metadata": {},
   "outputs": [
    {
     "name": "stdout",
     "output_type": "stream",
     "text": [
      "+--------------------+---------------+------------------+--------------------+--------------------+--------------------+--------------------+-----------+----------------+-----------+----------+\n",
      "|                 ten|loai_dien_thoai|thoi_gian_bao_hanh|   thong_so_ky_thuat|            danh_gia|  so_luong_binh_luan|           duong_dan|    mau_sac|phien_ban_bo_nho|    gia_moi|    gia_cu|\n",
      "+--------------------+---------------+------------------+--------------------+--------------------+--------------------+--------------------+-----------+----------------+-----------+----------+\n",
      "|Điện thoại Xiaomi...|          Redmi|BH Thường 12 tháng|\"{\"\"Màn hình:\"\": ...| 500 nits (typ)\\n...| HD+ (720 x 1650 ...| \"\"Hệ điều hành:\"...|   Xanh Đậm|          4-64GB|1.650.000 ₫|2.950.000₫|\n",
      "|Điện thoại Xiaomi...|          Redmi|BH Thường 12 tháng|\"{\"\"Màn hình:\"\": ...| 500 nits (typ)\\n...| HD+ (720 x 1650 ...| \"\"Hệ điều hành:\"...|   Xanh Đậm|         4-128GB|1.950.000 ₫|2.950.000₫|\n",
      "|Điện thoại Xiaomi...|          Redmi|BH Thường 12 tháng|\"{\"\"Màn hình:\"\": ...| 500 nits (typ)\\n...| HD+ (720 x 1650 ...| \"\"Hệ điều hành:\"...|Xanh bạc hà|          4-64GB|1.650.000 ₫|2.950.000₫|\n",
      "|Điện thoại Xiaomi...|          Redmi|BH Thường 12 tháng|\"{\"\"Màn hình:\"\": ...| 500 nits (typ)\\n...| HD+ (720 x 1650 ...| \"\"Hệ điều hành:\"...|Xanh bạc hà|         4-128GB|1.950.000 ₫|2.950.000₫|\n",
      "|Điện thoại Xiaomi...|          Redmi|BH Thường 12 tháng|\"{\"\"Màn hình:\"\": ...| 500 nits (typ)\\n...| HD+ (720 x 1650 ...| \"\"Hệ điều hành:\"...|        Tím|          4-64GB|1.650.000 ₫|2.950.000₫|\n",
      "+--------------------+---------------+------------------+--------------------+--------------------+--------------------+--------------------+-----------+----------------+-----------+----------+\n",
      "only showing top 5 rows\n",
      "\n"
     ]
    }
   ],
   "source": [
    "parsed_df = parsed_df.withColumn(\n",
    "    \"mau_sac_phien_ban_bo_nho_gia_moi_gia_cu\",\n",
    "    F.from_json(\n",
    "        F.col(\"mau_sac_phien_ban_bo_nho_gia_moi_gia_cu\"),\n",
    "        ArrayType(ArrayType(StringType()))  # vì mỗi item là 1 list [mau_sac, phien_ban_bo_nho, gia_moi, gia_cu]\n",
    "    )\n",
    ")\n",
    "\n",
    "# 4. Nổ (explode) từng phần tử của 'mau_sac_phien_ban_bo_nho_gia_moi_gia_cu'\n",
    "parsed_df = parsed_df.withColumn(\n",
    "    \"exploded\",\n",
    "    F.explode(\"mau_sac_phien_ban_bo_nho_gia_moi_gia_cu\")\n",
    ")\n",
    "\n",
    "# 5. Tách các giá trị trong exploded thành các cột riêng biệt\n",
    "parsed_df = parsed_df.withColumn(\"mau_sac\", F.col(\"exploded\")[0]) \\\n",
    "                      .withColumn(\"phien_ban_bo_nho\", F.col(\"exploded\")[1]) \\\n",
    "                      .withColumn(\"gia_moi\", F.col(\"exploded\")[2]) \\\n",
    "                      .withColumn(\"gia_cu\", F.col(\"exploded\")[3]) \\\n",
    "                      .drop(\"exploded\", \"mau_sac_phien_ban_bo_nho_gia_moi_gia_cu\")\n",
    "\n",
    "parsed_df.show(5)"
   ]
  },
  {
   "cell_type": "code",
   "execution_count": 33,
   "id": "ddaf0766",
   "metadata": {},
   "outputs": [
    {
     "name": "stdout",
     "output_type": "stream",
     "text": [
      "+--------------------+---------------+------------------+--------------------+--------------------+--------------------+-----------+----------------+-----------+----------+--------+------------+----------+------------+----+----+------------+-------+--------------+--------+\n",
      "|                 ten|loai_dien_thoai|thoi_gian_bao_hanh|            danh_gia|  so_luong_binh_luan|           duong_dan|    mau_sac|phien_ban_bo_nho|    gia_moi|    gia_cu|man_hinh|he_dieu_hanh|camera_sau|camera_truoc| cpu| ram|bo_nho_trong|the_sim|dung_luong_pin|thiet_ke|\n",
      "+--------------------+---------------+------------------+--------------------+--------------------+--------------------+-----------+----------------+-----------+----------+--------+------------+----------+------------+----+----+------------+-------+--------------+--------+\n",
      "|Điện thoại Xiaomi...|          Redmi|BH Thường 12 tháng| 500 nits (typ)\\n...| HD+ (720 x 1650 ...| \"\"Hệ điều hành:\"...|   Xanh Đậm|          4-64GB|1.650.000 ₫|2.950.000₫|    NULL|        NULL|      NULL|        NULL|NULL|NULL|        NULL|   NULL|          NULL|    NULL|\n",
      "|Điện thoại Xiaomi...|          Redmi|BH Thường 12 tháng| 500 nits (typ)\\n...| HD+ (720 x 1650 ...| \"\"Hệ điều hành:\"...|   Xanh Đậm|         4-128GB|1.950.000 ₫|2.950.000₫|    NULL|        NULL|      NULL|        NULL|NULL|NULL|        NULL|   NULL|          NULL|    NULL|\n",
      "|Điện thoại Xiaomi...|          Redmi|BH Thường 12 tháng| 500 nits (typ)\\n...| HD+ (720 x 1650 ...| \"\"Hệ điều hành:\"...|Xanh bạc hà|          4-64GB|1.650.000 ₫|2.950.000₫|    NULL|        NULL|      NULL|        NULL|NULL|NULL|        NULL|   NULL|          NULL|    NULL|\n",
      "|Điện thoại Xiaomi...|          Redmi|BH Thường 12 tháng| 500 nits (typ)\\n...| HD+ (720 x 1650 ...| \"\"Hệ điều hành:\"...|Xanh bạc hà|         4-128GB|1.950.000 ₫|2.950.000₫|    NULL|        NULL|      NULL|        NULL|NULL|NULL|        NULL|   NULL|          NULL|    NULL|\n",
      "|Điện thoại Xiaomi...|          Redmi|BH Thường 12 tháng| 500 nits (typ)\\n...| HD+ (720 x 1650 ...| \"\"Hệ điều hành:\"...|        Tím|          4-64GB|1.650.000 ₫|2.950.000₫|    NULL|        NULL|      NULL|        NULL|NULL|NULL|        NULL|   NULL|          NULL|    NULL|\n",
      "+--------------------+---------------+------------------+--------------------+--------------------+--------------------+-----------+----------------+-----------+----------+--------+------------+----------+------------+----+----+------------+-------+--------------+--------+\n",
      "only showing top 5 rows\n",
      "\n"
     ]
    }
   ],
   "source": [
    "parsed_df = parsed_df.withColumn(\n",
    "    \"thong_so_ky_thuat\",\n",
    "    F.from_json(F.col(\"thong_so_ky_thuat\"), ArrayType(StringType()))\n",
    ")\n",
    "\n",
    "# 2. Tạo các cột mới từ các phần tử trong array\n",
    "parsed_df = parsed_df.withColumn(\"man_hinh\",        F.col(\"thong_so_ky_thuat\")[0]) \\\n",
    "                     .withColumn(\"he_dieu_hanh\",     F.col(\"thong_so_ky_thuat\")[1]) \\\n",
    "                     .withColumn(\"camera_sau\",       F.col(\"thong_so_ky_thuat\")[2]) \\\n",
    "                     .withColumn(\"camera_truoc\",     F.col(\"thong_so_ky_thuat\")[3]) \\\n",
    "                     .withColumn(\"cpu\",              F.col(\"thong_so_ky_thuat\")[4]) \\\n",
    "                     .withColumn(\"ram\",              F.col(\"thong_so_ky_thuat\")[5]) \\\n",
    "                     .withColumn(\"bo_nho_trong\",     F.col(\"thong_so_ky_thuat\")[6]) \\\n",
    "                     .withColumn(\"the_sim\",          F.col(\"thong_so_ky_thuat\")[7]) \\\n",
    "                     .withColumn(\"dung_luong_pin\",   F.col(\"thong_so_ky_thuat\")[8]) \\\n",
    "                     .withColumn(\"thiet_ke\",         F.col(\"thong_so_ky_thuat\")[9])\n",
    "\n",
    "# 3. Xóa cột 'thong_so_ky_thuat' gốc\n",
    "parsed_df = parsed_df.drop(\"thong_so_ky_thuat\")\n",
    "\n",
    "parsed_df.show(5)"
   ]
  }
 ],
 "metadata": {
  "kernelspec": {
   "display_name": "Python 3",
   "language": "python",
   "name": "python3"
  },
  "language_info": {
   "codemirror_mode": {
    "name": "ipython",
    "version": 3
   },
   "file_extension": ".py",
   "mimetype": "text/x-python",
   "name": "python",
   "nbconvert_exporter": "python",
   "pygments_lexer": "ipython3",
   "version": "3.10.12"
  }
 },
 "nbformat": 4,
 "nbformat_minor": 5
}
